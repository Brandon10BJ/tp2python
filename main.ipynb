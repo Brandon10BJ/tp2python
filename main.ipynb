{
 "cells": [
  {
   "cell_type": "markdown",
   "metadata": {},
   "source": [
    "crear la estructura"
   ]
  },
  {
   "cell_type": "code",
   "execution_count": 1,
   "metadata": {},
   "outputs": [
    {
     "name": "stdout",
     "output_type": "stream",
     "text": [
      "{' Agustin': (0, 0, 0), ' Yanina': (10, 2, 5), ' Andrés': (4, 0, 1), ' Ariadna': (0, 0, 0), ' Bautista': (5, 5, 5), ' CAROLINA': (14, 2, 2), '\\nCESAR': (0, 0, 0), ' David': (0, 0, 0), ' Diego': (7, 1, 1), ' Dolores': (2, 2, 2), ' DYLAN': (1, 0, 1), ' ELIANA': (1, 5, 5), ' Emanuel': (1, 5, 5), ' Fabián': (5, 0, 0), ' Noelia': (6, 1, 1), \"\\nFrancsica'\": (1, 0, 0), ' FEDERICO': (1, 2, 2), ' Fernanda': (2, 3, 3), ' GONZALO': (0, 0, 1), ' Nancy ': (11, 0, 0)}\n"
     ]
    }
   ],
   "source": [
    "import modulos\n",
    "import modulos._init_\n",
    "\n",
    "names = \"\"\" Agustin, Yanina, Andrés, Ariadna, Bautista, CAROLINA,\n",
    "CESAR, David, Diego, Dolores, DYLAN, ELIANA, Emanuel, Fabián, Noelia,\n",
    "Francsica', FEDERICO, Fernanda, GONZALO, Nancy \"\"\"\n",
    "goals =         [0, 10, 4, 0, 5, 14, 0, 0, 7, 2, 1, 1, 1, 5, 6, 1, 1, 2, 0, 11]\n",
    "goals_avoided = [0, 2, 0, 0, 5, 2, 0, 0, 1, 2, 0, 5, 5, 0, 1, 0, 2, 3, 0, 0]\n",
    "assists =       [0, 5, 1, 0, 5, 2, 0, 0, 1, 2, 1, 5, 5, 0, 1, 0, 2, 3, 1, 0]\n",
    "\n",
    "#diccionario= {\"nombre\":\"\",\"goles\":0,\"goles salvados\":0,\"asistencias\":0}\n",
    "nombres=names.split(\",\")\n",
    "jugadores={} \n",
    "\n",
    "jugadores= modulos._init_.crearestructura(jugadores,nombres,goals,goals_avoided,assists)\n",
    "\n"
   ]
  },
  {
   "cell_type": "markdown",
   "metadata": {},
   "source": [
    "sub-inciso 2"
   ]
  },
  {
   "cell_type": "code",
   "execution_count": 2,
   "metadata": {},
   "outputs": [
    {
     "name": "stdout",
     "output_type": "stream",
     "text": [
      "el nombre del goleador/ar es:  CAROLINA los goles son: 14   \n"
     ]
    }
   ],
   "source": [
    "goleador = modulos._init_.maximogoleador(jugadores)\n",
    "print(f'el nombre del goleador/ar es: {goleador[0]} los goles son: {goleador[1][0]}   ') "
   ]
  },
  {
   "cell_type": "markdown",
   "metadata": {},
   "source": [
    "sub-inciso 3\n"
   ]
  },
  {
   "cell_type": "code",
   "execution_count": 3,
   "metadata": {},
   "outputs": [
    {
     "name": "stdout",
     "output_type": "stream",
     "text": [
      "el nombre del jugador/a mas influyente es:  CAROLINA con su influencia segun la tabla de valores es: 25.5   \n"
     ]
    }
   ],
   "source": [
    "nommasinflu, masinfluyente = modulos._init_.jugadormasinfluyente(jugadores)\n",
    "print(f'el nombre del jugador/a mas influyente es: {nommasinflu} con su influencia segun la tabla de valores es: {masinfluyente}   ')"
   ]
  },
  {
   "cell_type": "markdown",
   "metadata": {},
   "source": [
    "sub-inciso 4\n"
   ]
  },
  {
   "cell_type": "code",
   "execution_count": 4,
   "metadata": {},
   "outputs": [
    {
     "name": "stdout",
     "output_type": "stream",
     "text": [
      "la cantidad de goles por partido del equipo de hockey es: 2.84\n"
     ]
    }
   ],
   "source": [
    "golestotales = modulos._init_.golestotalespromedio(jugadores)\n",
    "print(f'la cantidad de goles por partido del equipo de hockey es: {golestotales/25}')"
   ]
  }
 ],
 "metadata": {
  "kernelspec": {
   "display_name": "venv",
   "language": "python",
   "name": "python3"
  },
  "language_info": {
   "codemirror_mode": {
    "name": "ipython",
    "version": 3
   },
   "file_extension": ".py",
   "mimetype": "text/x-python",
   "name": "python",
   "nbconvert_exporter": "python",
   "pygments_lexer": "ipython3",
   "version": "3.11.1"
  }
 },
 "nbformat": 4,
 "nbformat_minor": 2
}
