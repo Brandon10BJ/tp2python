{
 "cells": [
  {
   "cell_type": "markdown",
   "metadata": {},
   "source": [
    "crear la estructura"
   ]
  },
  {
   "cell_type": "code",
   "execution_count": 40,
   "metadata": {},
   "outputs": [
    {
     "name": "stdout",
     "output_type": "stream",
     "text": [
      "{' Agustin': (0, 0, 0), ' Yanina': (10, 2, 5), ' Andrés': (4, 0, 1), ' Ariadna': (0, 0, 0), ' Bautista': (5, 5, 5), ' CAROLINA': (14, 2, 2), '\\nCESAR': (0, 0, 0), ' David': (0, 0, 0), ' Diego': (7, 1, 1), ' Dolores': (2, 2, 2), ' DYLAN': (1, 0, 1), ' ELIANA': (1, 5, 5), ' Emanuel': (1, 5, 5), ' Fabián': (5, 0, 0), ' Noelia': (6, 1, 1), \"\\nFrancsica'\": (1, 0, 0), ' FEDERICO': (1, 2, 2), ' Fernanda': (2, 3, 3), ' GONZALO': (0, 0, 1), ' Nancy ': (11, 0, 0)}\n"
     ]
    }
   ],
   "source": [
    "import modulos\n",
    "import modulos._init_\n",
    "\n",
    "names = \"\"\" Agustin, Yanina, Andrés, Ariadna, Bautista, CAROLINA,\n",
    "CESAR, David, Diego, Dolores, DYLAN, ELIANA, Emanuel, Fabián, Noelia,\n",
    "Francsica', FEDERICO, Fernanda, GONZALO, Nancy \"\"\"\n",
    "goals =         [0, 10, 4, 0, 5, 14, 0, 0, 7, 2, 1, 1, 1, 5, 6, 1, 1, 2, 0, 11]\n",
    "goals_avoided = [0, 2, 0, 0, 5, 2, 0, 0, 1, 2, 0, 5, 5, 0, 1, 0, 2, 3, 0, 0]\n",
    "assists =       [0, 5, 1, 0, 5, 2, 0, 0, 1, 2, 1, 5, 5, 0, 1, 0, 2, 3, 1, 0]\n",
    "\n",
    "#diccionario= {\"nombre\":\"\",\"goles\":0,\"goles salvados\":0,\"asistencias\":0}\n",
    "nombres=names.split(\",\")\n",
    "jugadores={} \n",
    "\n",
    "jugadores= modulos._init_.crearestructura(jugadores,nombres,goals,goals_avoided,assists)\n",
    "\n"
   ]
  },
  {
   "cell_type": "markdown",
   "metadata": {},
   "source": [
    "sub-inciso 2"
   ]
  },
  {
   "cell_type": "code",
   "execution_count": 39,
   "metadata": {},
   "outputs": [
    {
     "name": "stdout",
     "output_type": "stream",
     "text": [
      "el nombre del goleador/ar es:  CAROLINA los goles son: 14   \n"
     ]
    }
   ],
   "source": [
    "goleador = modulos._init_.maximogoleador(jugadores)\n",
    "print(f'el nombre del goleador/ar es: {goleador[0]} los goles son: {goleador[1][0]}   ') "
   ]
  },
  {
   "cell_type": "markdown",
   "metadata": {},
   "source": [
    "sub-inciso 3\n"
   ]
  },
  {
   "cell_type": "code",
   "execution_count": 57,
   "metadata": {},
   "outputs": [
    {
     "ename": "AttributeError",
     "evalue": "module 'modulos._init_' has no attribute 'jugadormasinfluyente'",
     "output_type": "error",
     "traceback": [
      "\u001b[1;31m---------------------------------------------------------------------------\u001b[0m",
      "\u001b[1;31mAttributeError\u001b[0m                            Traceback (most recent call last)",
      "Cell \u001b[1;32mIn[57], line 1\u001b[0m\n\u001b[1;32m----> 1\u001b[0m nommasinflu, masinfluyente \u001b[38;5;241m=\u001b[39m \u001b[43mmodulos\u001b[49m\u001b[38;5;241;43m.\u001b[39;49m\u001b[43m_init_\u001b[49m\u001b[38;5;241;43m.\u001b[39;49m\u001b[43mjugadormasinfluyente\u001b[49m(jugadores)\n\u001b[0;32m      2\u001b[0m \u001b[38;5;28mprint\u001b[39m(\u001b[38;5;124mf\u001b[39m\u001b[38;5;124m'\u001b[39m\u001b[38;5;124mel nombre del jugador/a mas influyente es: \u001b[39m\u001b[38;5;132;01m{\u001b[39;00mnommasinflu\u001b[38;5;132;01m}\u001b[39;00m\u001b[38;5;124m con su influencia segun la tabla de valores es: \u001b[39m\u001b[38;5;132;01m{\u001b[39;00mmasinfluyente\u001b[38;5;132;01m}\u001b[39;00m\u001b[38;5;124m   \u001b[39m\u001b[38;5;124m'\u001b[39m)\n",
      "\u001b[1;31mAttributeError\u001b[0m: module 'modulos._init_' has no attribute 'jugadormasinfluyente'"
     ]
    }
   ],
   "source": [
    "nommasinflu, masinfluyente = modulos._init_.jugadormasinfluyente(jugadores)\n",
    "print(f'el nombre del jugador/a mas influyente es: {nommasinflu} con su influencia segun la tabla de valores es: {masinfluyente}   ')"
   ]
  }
 ],
 "metadata": {
  "kernelspec": {
   "display_name": "venv",
   "language": "python",
   "name": "python3"
  },
  "language_info": {
   "codemirror_mode": {
    "name": "ipython",
    "version": 3
   },
   "file_extension": ".py",
   "mimetype": "text/x-python",
   "name": "python",
   "nbconvert_exporter": "python",
   "pygments_lexer": "ipython3",
   "version": "3.11.1"
  }
 },
 "nbformat": 4,
 "nbformat_minor": 2
}
